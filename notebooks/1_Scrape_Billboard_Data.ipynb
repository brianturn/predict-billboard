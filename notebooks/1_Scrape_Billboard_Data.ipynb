{
 "cells": [
  {
   "cell_type": "code",
   "execution_count": 1,
   "metadata": {
    "collapsed": true
   },
   "outputs": [],
   "source": [
    "import requests\n",
    "from bs4 import BeautifulSoup\n",
    "import re\n",
    "import pandas as pd\n",
    "import pickle\n",
    "import string\n",
    "from dateutil import parser"
   ]
  },
  {
   "cell_type": "code",
   "execution_count": 2,
   "metadata": {
    "collapsed": true
   },
   "outputs": [],
   "source": [
    "def get_soup(start_url):\n",
    "    response = requests.get(start_url)\n",
    "    page = response.text\n",
    "    return BeautifulSoup(page, \"lxml\")"
   ]
  },
  {
   "cell_type": "markdown",
   "metadata": {},
   "source": [
    "### A function to create list of Billboard Hot 100 urls that catalogue each song going back to 1958"
   ]
  },
  {
   "cell_type": "code",
   "execution_count": 3,
   "metadata": {
    "collapsed": false,
    "scrolled": false
   },
   "outputs": [],
   "source": [
    "from datetime import date, datetime, timedelta\n",
    "\n",
    "def perdelta(start, end, delta):\n",
    "    curr = start\n",
    "    while curr < end:\n",
    "        yield curr\n",
    "        curr += delta\n",
    "\n",
    "urls = []\n",
    "for suffix in perdelta(date(1958, 8, 9), date(2017, 5, 20), timedelta(days=7)):\n",
    "    prefix = 'http://www.billboard.com/charts/hot-100/'\n",
    "    link = prefix + str(suffix)\n",
    "    urls.append(link)\n"
   ]
  },
  {
   "cell_type": "code",
   "execution_count": 4,
   "metadata": {
    "collapsed": false
   },
   "outputs": [
    {
     "data": {
      "text/plain": [
       "['http://www.billboard.com/charts/hot-100/1958-08-09',\n",
       " 'http://www.billboard.com/charts/hot-100/1958-08-16',\n",
       " 'http://www.billboard.com/charts/hot-100/1958-08-23']"
      ]
     },
     "execution_count": 4,
     "metadata": {},
     "output_type": "execute_result"
    }
   ],
   "source": [
    "urls[:3]"
   ]
  },
  {
   "cell_type": "code",
   "execution_count": 230,
   "metadata": {
    "collapsed": false
   },
   "outputs": [],
   "source": [
    "def get_artist(soup):\n",
    "    artist = soup.find_all(class_=\"chart-row__artist\")\n",
    "    artists = []\n",
    "    for item in artist:\n",
    "        item = item.text.strip()\n",
    "        artists.append(item)\n",
    "    return artists"
   ]
  },
  {
   "cell_type": "code",
   "execution_count": 231,
   "metadata": {
    "collapsed": false
   },
   "outputs": [],
   "source": [
    "def get_track(soup):\n",
    "    track = soup.find_all(class_=\"chart-row__song\")\n",
    "    tracks = []\n",
    "    for item in track:\n",
    "        item = item.text.strip()\n",
    "        tracks.append(item)\n",
    "    return tracks\n"
   ]
  },
  {
   "cell_type": "markdown",
   "metadata": {},
   "source": [
    "### Get artist and track title from each url. Append to list of dataframes, merge the dataframes and write to a flat file"
   ]
  },
  {
   "cell_type": "code",
   "execution_count": 232,
   "metadata": {
    "collapsed": false
   },
   "outputs": [],
   "source": [
    "\n",
    "frames = []\n",
    "billboard_dict = {}\n",
    "for url in urls:\n",
    "    soup = get_soup(url)\n",
    "    artist = get_artist(soup)\n",
    "    track = get_track(soup)\n",
    "    dates = [parser.parse(url.split('/')[5])]*len(artist)\n",
    "    df = pd.DataFrame({'artist': artist, 'track': track, 'publish_date': dates})\n",
    "\n",
    "    frames.append(df)\n",
    "    "
   ]
  },
  {
   "cell_type": "code",
   "execution_count": 233,
   "metadata": {
    "collapsed": false
   },
   "outputs": [],
   "source": [
    "df_merge = pd.concat(frames).reset_index(drop=True)"
   ]
  },
  {
   "cell_type": "code",
   "execution_count": 237,
   "metadata": {
    "collapsed": true
   },
   "outputs": [],
   "source": [
    "# import pickle\n",
    "# with open('dataframes/billboard_rawdf.pkl', 'wb') as picklefile:\n",
    "#     pickle.dump(df_merge, picklefile)"
   ]
  },
  {
   "cell_type": "code",
   "execution_count": null,
   "metadata": {
    "collapsed": true
   },
   "outputs": [],
   "source": [
    "# with open('dataframes/billboard_rawdf.pkl', 'rb') as picklefile:\n",
    "#     df_bb = pickle.load(picklefile, encoding=\"utf-8\")"
   ]
  },
  {
   "cell_type": "code",
   "execution_count": null,
   "metadata": {
    "collapsed": true
   },
   "outputs": [],
   "source": [
    "df2 = df_bb.drop_duplicates(['track'], keep='first').reset_index(drop=True)"
   ]
  },
  {
   "cell_type": "code",
   "execution_count": null,
   "metadata": {
    "collapsed": true
   },
   "outputs": [],
   "source": [
    "# with open('dataframes/billboard_unique.pkl', 'wb') as picklefile:\n",
    "#     pickle.dump(df2, picklefile)"
   ]
  }
 ],
 "metadata": {
  "kernelspec": {
   "display_name": "Python 3",
   "language": "python",
   "name": "python3"
  },
  "language_info": {
   "codemirror_mode": {
    "name": "ipython",
    "version": 3
   },
   "file_extension": ".py",
   "mimetype": "text/x-python",
   "name": "python",
   "nbconvert_exporter": "python",
   "pygments_lexer": "ipython3",
   "version": "3.6.0"
  }
 },
 "nbformat": 4,
 "nbformat_minor": 2
}
