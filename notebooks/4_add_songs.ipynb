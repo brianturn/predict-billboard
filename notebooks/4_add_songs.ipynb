{
 "cells": [
  {
   "cell_type": "markdown",
   "metadata": {},
   "source": [
    "### Class imbalance improved by acquiring audio features for 3000 more tracks. "
   ]
  },
  {
   "cell_type": "code",
   "execution_count": 3,
   "metadata": {
    "collapsed": false
   },
   "outputs": [],
   "source": [
    "import pickle\n",
    "import random\n",
    "import numpy as np\n",
    "with open('dataframes/billboard_unique.pkl', 'rb') as picklefile:\n",
    "    bb = pickle.load(picklefile)"
   ]
  },
  {
   "cell_type": "code",
   "execution_count": 7,
   "metadata": {
    "collapsed": false
   },
   "outputs": [],
   "source": [
    "tracks = np.random.choice(bb.track, 3000)"
   ]
  },
  {
   "cell_type": "code",
   "execution_count": 26,
   "metadata": {
    "collapsed": false
   },
   "outputs": [],
   "source": [
    "# import spotipy\n",
    "# from spotipy.oauth2 import SpotifyClientCredentials\n",
    "# import time\n",
    "# import sys\n",
    "# import pprint\n",
    "\n",
    "# ids = []\n",
    "# for i in tracks: \n",
    "#     if len(i) > 0:\n",
    "#         sp = spotipy.Spotify()\n",
    "#         result = sp.search(q=i, type='track')\n",
    "#         try:\n",
    "#             track_uri = result['tracks']['items'][0]['id']\n",
    "#             ids.append(track_uri)\n",
    "#             time.sleep(.5)\n",
    "#         except:\n",
    "#             ids.append('')\n",
    "#             time.sleep(.5)\n",
    "#     else:\n",
    "#         ids.append('')"
   ]
  },
  {
   "cell_type": "code",
   "execution_count": 11,
   "metadata": {
    "collapsed": false
   },
   "outputs": [
    {
     "data": {
      "text/plain": [
       "3000"
      ]
     },
     "execution_count": 11,
     "metadata": {},
     "output_type": "execute_result"
    }
   ],
   "source": [
    "len(ids)"
   ]
  },
  {
   "cell_type": "code",
   "execution_count": 12,
   "metadata": {
    "collapsed": true
   },
   "outputs": [],
   "source": [
    "import pandas as pd"
   ]
  },
  {
   "cell_type": "code",
   "execution_count": 13,
   "metadata": {
    "collapsed": false
   },
   "outputs": [],
   "source": [
    "client_credentials_manager = SpotifyClientCredentials()\n",
    "sp = spotipy.Spotify(client_credentials_manager=client_credentials_manager)\n",
    "frames = []\n",
    "for i in ids:\n",
    "    audio_features = sp.audio_features(tracks=i)\n",
    "    df = pd.DataFrame(audio_features)\n",
    "    frames.append(df)"
   ]
  },
  {
   "cell_type": "code",
   "execution_count": 14,
   "metadata": {
    "collapsed": false
   },
   "outputs": [
    {
     "data": {
      "text/plain": [
       "(3000, 3000)"
      ]
     },
     "execution_count": 14,
     "metadata": {},
     "output_type": "execute_result"
    }
   ],
   "source": [
    "len(frames), len(tracks)"
   ]
  },
  {
   "cell_type": "code",
   "execution_count": 16,
   "metadata": {
    "collapsed": false
   },
   "outputs": [],
   "source": [
    "for i, frame in enumerate(frames):\n",
    "    frame['track_name'] = tracks[i]\n",
    "    "
   ]
  },
  {
   "cell_type": "code",
   "execution_count": 38,
   "metadata": {
    "collapsed": false
   },
   "outputs": [],
   "source": [
    "def find_spotify(row):\n",
    "    lst = tracks\n",
    "    if row['track'] in lst:\n",
    "        return 1\n",
    "    else:\n",
    "        return 0\n",
    "    \n",
    "bb['target'] = bb.apply(find_spotify, axis=1)"
   ]
  },
  {
   "cell_type": "code",
   "execution_count": 40,
   "metadata": {
    "collapsed": false
   },
   "outputs": [],
   "source": [
    "bb_spotify = bb[bb['target']== 1]"
   ]
  },
  {
   "cell_type": "code",
   "execution_count": 55,
   "metadata": {
    "collapsed": false
   },
   "outputs": [],
   "source": [
    "bb_spotify = bb_spotify.sort_values(by='track')"
   ]
  },
  {
   "cell_type": "code",
   "execution_count": 46,
   "metadata": {
    "collapsed": false
   },
   "outputs": [],
   "source": [
    "with open('dataframes/spotify_df7.pkl', 'rb') as picklefile:\n",
    "    df = pickle.load(picklefile)"
   ]
  },
  {
   "cell_type": "code",
   "execution_count": 50,
   "metadata": {
    "collapsed": false
   },
   "outputs": [],
   "source": [
    "df = df.drop_duplicates(['track_name'], keep='last')"
   ]
  },
  {
   "cell_type": "code",
   "execution_count": 5,
   "metadata": {
    "collapsed": false
   },
   "outputs": [],
   "source": [
    "# bb_artists = list(bb_spotify.artist)\n",
    "# bb_artists"
   ]
  },
  {
   "cell_type": "code",
   "execution_count": 58,
   "metadata": {
    "collapsed": false
   },
   "outputs": [],
   "source": [
    "df = df.sort_values(by='track_name')"
   ]
  },
  {
   "cell_type": "code",
   "execution_count": 62,
   "metadata": {
    "collapsed": false
   },
   "outputs": [],
   "source": [
    "df['artist'] = bb_artists"
   ]
  },
  {
   "cell_type": "code",
   "execution_count": 65,
   "metadata": {
    "collapsed": true
   },
   "outputs": [],
   "source": [
    "df_spotify2 = df.drop(df.columns[-2], axis =1) "
   ]
  },
  {
   "cell_type": "code",
   "execution_count": 67,
   "metadata": {
    "collapsed": true
   },
   "outputs": [],
   "source": [
    "df_spotify3 = df_spotify2.dropna()"
   ]
  },
  {
   "cell_type": "code",
   "execution_count": 71,
   "metadata": {
    "collapsed": false
   },
   "outputs": [
    {
     "name": "stderr",
     "output_type": "stream",
     "text": [
      "/Users/brianturner/anaconda/lib/python3.6/site-packages/ipykernel/__main__.py:1: FutureWarning: convert_objects is deprecated.  Use the data-type specific converters pd.to_datetime, pd.to_timedelta and pd.to_numeric.\n",
      "  if __name__ == '__main__':\n"
     ]
    }
   ],
   "source": [
    "df_spotify3 = df_spotify3.convert_objects()"
   ]
  },
  {
   "cell_type": "code",
   "execution_count": 75,
   "metadata": {
    "collapsed": true
   },
   "outputs": [],
   "source": [
    "df_spotify4 = df_spotify3.select_dtypes(exclude=[object]).dropna()"
   ]
  },
  {
   "cell_type": "code",
   "execution_count": 3,
   "metadata": {
    "collapsed": false
   },
   "outputs": [],
   "source": [
    "#df_spotify4['target'] = 1\n"
   ]
  },
  {
   "cell_type": "code",
   "execution_count": 87,
   "metadata": {
    "collapsed": true
   },
   "outputs": [],
   "source": [
    "with open('dataframes/spotify_model_addon.pkl', 'wb') as picklefile:\n",
    "    pickle.dump(df_spotify4, picklefile)"
   ]
  },
  {
   "cell_type": "code",
   "execution_count": 78,
   "metadata": {
    "collapsed": true
   },
   "outputs": [],
   "source": [
    "with open('dataframes/spotify_model_data1.pkl', 'rb') as picklefile:\n",
    "    df_tracks = pickle.load(picklefile)"
   ]
  },
  {
   "cell_type": "code",
   "execution_count": 81,
   "metadata": {
    "collapsed": false
   },
   "outputs": [
    {
     "data": {
      "text/html": [
       "<div>\n",
       "<table border=\"1\" class=\"dataframe\">\n",
       "  <thead>\n",
       "    <tr style=\"text-align: right;\">\n",
       "      <th></th>\n",
       "      <th>acousticness</th>\n",
       "      <th>danceability</th>\n",
       "      <th>duration_ms</th>\n",
       "      <th>energy</th>\n",
       "      <th>instrumentalness</th>\n",
       "      <th>key</th>\n",
       "      <th>liveness</th>\n",
       "      <th>loudness</th>\n",
       "      <th>mode</th>\n",
       "      <th>speechiness</th>\n",
       "      <th>tempo</th>\n",
       "      <th>time_signature</th>\n",
       "      <th>valence</th>\n",
       "      <th>target</th>\n",
       "    </tr>\n",
       "  </thead>\n",
       "  <tbody>\n",
       "    <tr>\n",
       "      <th>0</th>\n",
       "      <td>0.000007</td>\n",
       "      <td>0.269</td>\n",
       "      <td>280213.0</td>\n",
       "      <td>0.993</td>\n",
       "      <td>0.134000</td>\n",
       "      <td>5.0</td>\n",
       "      <td>0.1950</td>\n",
       "      <td>-3.219</td>\n",
       "      <td>1.0</td>\n",
       "      <td>0.1710</td>\n",
       "      <td>87.795</td>\n",
       "      <td>3.0</td>\n",
       "      <td>0.221</td>\n",
       "      <td>0</td>\n",
       "    </tr>\n",
       "    <tr>\n",
       "      <th>1</th>\n",
       "      <td>0.277000</td>\n",
       "      <td>0.644</td>\n",
       "      <td>417560.0</td>\n",
       "      <td>0.501</td>\n",
       "      <td>0.000000</td>\n",
       "      <td>5.0</td>\n",
       "      <td>0.1310</td>\n",
       "      <td>-5.761</td>\n",
       "      <td>0.0</td>\n",
       "      <td>0.0299</td>\n",
       "      <td>116.032</td>\n",
       "      <td>4.0</td>\n",
       "      <td>0.374</td>\n",
       "      <td>0</td>\n",
       "    </tr>\n",
       "    <tr>\n",
       "      <th>2</th>\n",
       "      <td>0.140000</td>\n",
       "      <td>0.859</td>\n",
       "      <td>483967.0</td>\n",
       "      <td>0.440</td>\n",
       "      <td>0.537000</td>\n",
       "      <td>9.0</td>\n",
       "      <td>0.6890</td>\n",
       "      <td>-11.224</td>\n",
       "      <td>0.0</td>\n",
       "      <td>0.0514</td>\n",
       "      <td>121.002</td>\n",
       "      <td>4.0</td>\n",
       "      <td>0.739</td>\n",
       "      <td>1</td>\n",
       "    </tr>\n",
       "    <tr>\n",
       "      <th>3</th>\n",
       "      <td>0.689000</td>\n",
       "      <td>0.699</td>\n",
       "      <td>183027.0</td>\n",
       "      <td>0.519</td>\n",
       "      <td>0.000471</td>\n",
       "      <td>8.0</td>\n",
       "      <td>0.9350</td>\n",
       "      <td>-6.422</td>\n",
       "      <td>1.0</td>\n",
       "      <td>0.0290</td>\n",
       "      <td>102.463</td>\n",
       "      <td>4.0</td>\n",
       "      <td>0.664</td>\n",
       "      <td>0</td>\n",
       "    </tr>\n",
       "    <tr>\n",
       "      <th>4</th>\n",
       "      <td>0.179000</td>\n",
       "      <td>0.813</td>\n",
       "      <td>200705.0</td>\n",
       "      <td>0.683</td>\n",
       "      <td>0.000000</td>\n",
       "      <td>6.0</td>\n",
       "      <td>0.0748</td>\n",
       "      <td>-3.813</td>\n",
       "      <td>0.0</td>\n",
       "      <td>0.0285</td>\n",
       "      <td>107.950</td>\n",
       "      <td>4.0</td>\n",
       "      <td>0.685</td>\n",
       "      <td>0</td>\n",
       "    </tr>\n",
       "  </tbody>\n",
       "</table>\n",
       "</div>"
      ],
      "text/plain": [
       "   acousticness  danceability  duration_ms  energy  instrumentalness  key  \\\n",
       "0      0.000007         0.269     280213.0   0.993          0.134000  5.0   \n",
       "1      0.277000         0.644     417560.0   0.501          0.000000  5.0   \n",
       "2      0.140000         0.859     483967.0   0.440          0.537000  9.0   \n",
       "3      0.689000         0.699     183027.0   0.519          0.000471  8.0   \n",
       "4      0.179000         0.813     200705.0   0.683          0.000000  6.0   \n",
       "\n",
       "   liveness  loudness  mode  speechiness    tempo  time_signature  valence  \\\n",
       "0    0.1950    -3.219   1.0       0.1710   87.795             3.0    0.221   \n",
       "1    0.1310    -5.761   0.0       0.0299  116.032             4.0    0.374   \n",
       "2    0.6890   -11.224   0.0       0.0514  121.002             4.0    0.739   \n",
       "3    0.9350    -6.422   1.0       0.0290  102.463             4.0    0.664   \n",
       "4    0.0748    -3.813   0.0       0.0285  107.950             4.0    0.685   \n",
       "\n",
       "   target  \n",
       "0       0  \n",
       "1       0  \n",
       "2       1  \n",
       "3       0  \n",
       "4       0  "
      ]
     },
     "execution_count": 81,
     "metadata": {},
     "output_type": "execute_result"
    }
   ],
   "source": [
    "df_tracks.head()"
   ]
  },
  {
   "cell_type": "code",
   "execution_count": 90,
   "metadata": {
    "collapsed": true
   },
   "outputs": [],
   "source": [
    "df_master = df_tracks.append(df_spotify4).reset_index(drop=True)"
   ]
  },
  {
   "cell_type": "code",
   "execution_count": 94,
   "metadata": {
    "collapsed": false
   },
   "outputs": [
    {
     "data": {
      "text/html": [
       "<div>\n",
       "<table border=\"1\" class=\"dataframe\">\n",
       "  <thead>\n",
       "    <tr style=\"text-align: right;\">\n",
       "      <th></th>\n",
       "      <th>acousticness</th>\n",
       "      <th>danceability</th>\n",
       "      <th>duration_ms</th>\n",
       "      <th>energy</th>\n",
       "      <th>instrumentalness</th>\n",
       "      <th>key</th>\n",
       "      <th>liveness</th>\n",
       "      <th>loudness</th>\n",
       "      <th>mode</th>\n",
       "      <th>speechiness</th>\n",
       "      <th>tempo</th>\n",
       "      <th>time_signature</th>\n",
       "      <th>valence</th>\n",
       "      <th>target</th>\n",
       "    </tr>\n",
       "  </thead>\n",
       "  <tbody>\n",
       "    <tr>\n",
       "      <th>12680</th>\n",
       "      <td>0.810</td>\n",
       "      <td>0.650</td>\n",
       "      <td>161640.0</td>\n",
       "      <td>0.233</td>\n",
       "      <td>0.000120</td>\n",
       "      <td>0.0</td>\n",
       "      <td>0.0851</td>\n",
       "      <td>-11.422</td>\n",
       "      <td>1.0</td>\n",
       "      <td>0.0308</td>\n",
       "      <td>127.796</td>\n",
       "      <td>4.0</td>\n",
       "      <td>0.608</td>\n",
       "      <td>1</td>\n",
       "    </tr>\n",
       "    <tr>\n",
       "      <th>12681</th>\n",
       "      <td>0.598</td>\n",
       "      <td>0.484</td>\n",
       "      <td>323427.0</td>\n",
       "      <td>0.445</td>\n",
       "      <td>0.000346</td>\n",
       "      <td>8.0</td>\n",
       "      <td>0.1110</td>\n",
       "      <td>-10.079</td>\n",
       "      <td>0.0</td>\n",
       "      <td>0.0345</td>\n",
       "      <td>95.750</td>\n",
       "      <td>3.0</td>\n",
       "      <td>0.334</td>\n",
       "      <td>1</td>\n",
       "    </tr>\n",
       "    <tr>\n",
       "      <th>12682</th>\n",
       "      <td>0.593</td>\n",
       "      <td>0.563</td>\n",
       "      <td>157520.0</td>\n",
       "      <td>0.464</td>\n",
       "      <td>0.000037</td>\n",
       "      <td>8.0</td>\n",
       "      <td>0.0586</td>\n",
       "      <td>-9.720</td>\n",
       "      <td>1.0</td>\n",
       "      <td>0.0365</td>\n",
       "      <td>78.912</td>\n",
       "      <td>4.0</td>\n",
       "      <td>0.493</td>\n",
       "      <td>1</td>\n",
       "    </tr>\n",
       "    <tr>\n",
       "      <th>12683</th>\n",
       "      <td>0.469</td>\n",
       "      <td>0.559</td>\n",
       "      <td>206389.0</td>\n",
       "      <td>0.508</td>\n",
       "      <td>0.000000</td>\n",
       "      <td>2.0</td>\n",
       "      <td>0.1740</td>\n",
       "      <td>-6.849</td>\n",
       "      <td>1.0</td>\n",
       "      <td>0.0232</td>\n",
       "      <td>81.023</td>\n",
       "      <td>4.0</td>\n",
       "      <td>0.431</td>\n",
       "      <td>1</td>\n",
       "    </tr>\n",
       "    <tr>\n",
       "      <th>12684</th>\n",
       "      <td>0.473</td>\n",
       "      <td>0.499</td>\n",
       "      <td>260773.0</td>\n",
       "      <td>0.610</td>\n",
       "      <td>0.000000</td>\n",
       "      <td>8.0</td>\n",
       "      <td>0.0722</td>\n",
       "      <td>-5.110</td>\n",
       "      <td>0.0</td>\n",
       "      <td>0.1350</td>\n",
       "      <td>172.969</td>\n",
       "      <td>3.0</td>\n",
       "      <td>0.423</td>\n",
       "      <td>1</td>\n",
       "    </tr>\n",
       "  </tbody>\n",
       "</table>\n",
       "</div>"
      ],
      "text/plain": [
       "       acousticness  danceability  duration_ms  energy  instrumentalness  key  \\\n",
       "12680         0.810         0.650     161640.0   0.233          0.000120  0.0   \n",
       "12681         0.598         0.484     323427.0   0.445          0.000346  8.0   \n",
       "12682         0.593         0.563     157520.0   0.464          0.000037  8.0   \n",
       "12683         0.469         0.559     206389.0   0.508          0.000000  2.0   \n",
       "12684         0.473         0.499     260773.0   0.610          0.000000  8.0   \n",
       "\n",
       "       liveness  loudness  mode  speechiness    tempo  time_signature  \\\n",
       "12680    0.0851   -11.422   1.0       0.0308  127.796             4.0   \n",
       "12681    0.1110   -10.079   0.0       0.0345   95.750             3.0   \n",
       "12682    0.0586    -9.720   1.0       0.0365   78.912             4.0   \n",
       "12683    0.1740    -6.849   1.0       0.0232   81.023             4.0   \n",
       "12684    0.0722    -5.110   0.0       0.1350  172.969             3.0   \n",
       "\n",
       "       valence  target  \n",
       "12680    0.608       1  \n",
       "12681    0.334       1  \n",
       "12682    0.493       1  \n",
       "12683    0.431       1  \n",
       "12684    0.423       1  "
      ]
     },
     "execution_count": 94,
     "metadata": {},
     "output_type": "execute_result"
    }
   ],
   "source": [
    "df_master.tail()"
   ]
  },
  {
   "cell_type": "code",
   "execution_count": 105,
   "metadata": {
    "collapsed": true
   },
   "outputs": [],
   "source": [
    "with open('dataframes/df_master.pkl', 'wb') as picklefile:\n",
    "    pickle.dump(df_master, picklefile)"
   ]
  },
  {
   "cell_type": "code",
   "execution_count": null,
   "metadata": {
    "collapsed": true
   },
   "outputs": [],
   "source": []
  }
 ],
 "metadata": {
  "kernelspec": {
   "display_name": "Python 3",
   "language": "python",
   "name": "python3"
  },
  "language_info": {
   "codemirror_mode": {
    "name": "ipython",
    "version": 3
   },
   "file_extension": ".py",
   "mimetype": "text/x-python",
   "name": "python",
   "nbconvert_exporter": "python",
   "pygments_lexer": "ipython3",
   "version": "3.6.0"
  }
 },
 "nbformat": 4,
 "nbformat_minor": 2
}
