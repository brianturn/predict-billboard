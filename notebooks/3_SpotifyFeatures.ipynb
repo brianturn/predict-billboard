{
 "cells": [
  {
   "cell_type": "markdown",
   "metadata": {},
   "source": [
    "### Get audio features for the 10,000 songs using the Spotify API. Use the data scraped from Billboard to assign target variable."
   ]
  },
  {
   "cell_type": "code",
   "execution_count": 89,
   "metadata": {
    "collapsed": false
   },
   "outputs": [],
   "source": [
    "import pickle\n",
    "with open('dataframes/msd_clean.pkl', 'rb') as picklefile:\n",
    "    msd = pickle.load(picklefile) # load the 10,000 songs\n",
    "\n",
    "tracks = list(msd.title)"
   ]
  },
  {
   "cell_type": "code",
   "execution_count": 272,
   "metadata": {
    "collapsed": false
   },
   "outputs": [],
   "source": [
    "import spotipy\n",
    "from spotipy.oauth2 import SpotifyClientCredentials\n",
    "import time\n",
    "import sys\n",
    "import pprint\n",
    "\n",
    "\n",
    "ids = [] # first get track ids\n",
    "for i in tracks: \n",
    "    if len(i) > 0:\n",
    "        sp = spotipy.Spotify()\n",
    "        result = sp.search(q=i, type='track')\n",
    "        try:\n",
    "            track_uri = result['tracks']['items'][0]['id']\n",
    "            ids.append(track_uri)\n",
    "            time.sleep(.5)\n",
    "        except:\n",
    "            ids.append('')\n",
    "            time.sleep(.5)\n",
    "    else:\n",
    "        ids.append('')"
   ]
  },
  {
   "cell_type": "code",
   "execution_count": 189,
   "metadata": {
    "collapsed": true
   },
   "outputs": [],
   "source": [
    "import pandas as pd"
   ]
  },
  {
   "cell_type": "code",
   "execution_count": 274,
   "metadata": {
    "collapsed": false
   },
   "outputs": [],
   "source": [
    "client_credentials_manager = SpotifyClientCredentials()\n",
    "sp = spotipy.Spotify(client_credentials_manager=client_credentials_manager)\n",
    "frames = []\n",
    "for i in ids: #get audio features from track ids\n",
    "    audio_features = sp.audio_features(tracks=i)\n",
    "    df = pd.DataFrame(audio_features)\n",
    "    frames.append(df)"
   ]
  },
  {
   "cell_type": "code",
   "execution_count": 276,
   "metadata": {
    "collapsed": false
   },
   "outputs": [
    {
     "data": {
      "text/plain": [
       "[      0\n",
       " 0  None,    acousticness                                       analysis_url  \\\n",
       " 0         0.963  https://api.spotify.com/v1/audio-analysis/7MMy...   \n",
       " \n",
       "    danceability  duration_ms  energy                      id  \\\n",
       " 0         0.547       307147   0.543  7MMySvTOkdgkCFjoj4NVIG   \n",
       " \n",
       "    instrumentalness  key  liveness  loudness  mode  speechiness    tempo  \\\n",
       " 0          0.000004    7     0.935    -17.12     1        0.911  114.335   \n",
       " \n",
       "    time_signature                                         track_href  \\\n",
       " 0               3  https://api.spotify.com/v1/tracks/7MMySvTOkdgk...   \n",
       " \n",
       "              type                                   uri  valence  \n",
       " 0  audio_features  spotify:track:7MMySvTOkdgkCFjoj4NVIG    0.341  ]"
      ]
     },
     "execution_count": 276,
     "metadata": {},
     "output_type": "execute_result"
    }
   ],
   "source": [
    "frames[0:2]"
   ]
  },
  {
   "cell_type": "code",
   "execution_count": 279,
   "metadata": {
    "collapsed": false
   },
   "outputs": [],
   "source": [
    "for i, frame in enumerate(frames):\n",
    "    frame['track_name'] = tracks[i]\n",
    "    "
   ]
  },
  {
   "cell_type": "code",
   "execution_count": 280,
   "metadata": {
    "collapsed": false
   },
   "outputs": [],
   "source": [
    "df = pd.concat(frames)"
   ]
  },
  {
   "cell_type": "code",
   "execution_count": 285,
   "metadata": {
    "collapsed": false
   },
   "outputs": [
    {
     "data": {
      "text/html": [
       "<div>\n",
       "<table border=\"1\" class=\"dataframe\">\n",
       "  <thead>\n",
       "    <tr style=\"text-align: right;\">\n",
       "      <th></th>\n",
       "      <th>0</th>\n",
       "      <th>track_name</th>\n",
       "      <th>acousticness</th>\n",
       "      <th>analysis_url</th>\n",
       "      <th>danceability</th>\n",
       "      <th>duration_ms</th>\n",
       "      <th>energy</th>\n",
       "      <th>id</th>\n",
       "      <th>instrumentalness</th>\n",
       "      <th>key</th>\n",
       "      <th>liveness</th>\n",
       "      <th>loudness</th>\n",
       "      <th>mode</th>\n",
       "      <th>speechiness</th>\n",
       "      <th>tempo</th>\n",
       "      <th>time_signature</th>\n",
       "      <th>track_href</th>\n",
       "      <th>type</th>\n",
       "      <th>uri</th>\n",
       "      <th>valence</th>\n",
       "    </tr>\n",
       "  </thead>\n",
       "  <tbody>\n",
       "    <tr>\n",
       "      <th>0</th>\n",
       "      <td>NaN</td>\n",
       "      <td>The Hanged Man</td>\n",
       "      <td>0.000804</td>\n",
       "      <td>https://api.spotify.com/v1/audio-analysis/09KV...</td>\n",
       "      <td>0.429</td>\n",
       "      <td>178667.0</td>\n",
       "      <td>0.983</td>\n",
       "      <td>09KV0rktYI4wo1T5KDDrbN</td>\n",
       "      <td>0.001160</td>\n",
       "      <td>9.0</td>\n",
       "      <td>0.0929</td>\n",
       "      <td>-3.178</td>\n",
       "      <td>0.0</td>\n",
       "      <td>0.1500</td>\n",
       "      <td>156.066</td>\n",
       "      <td>4.0</td>\n",
       "      <td>https://api.spotify.com/v1/tracks/09KV0rktYI4w...</td>\n",
       "      <td>audio_features</td>\n",
       "      <td>spotify:track:09KV0rktYI4wo1T5KDDrbN</td>\n",
       "      <td>0.101</td>\n",
       "    </tr>\n",
       "    <tr>\n",
       "      <th>0</th>\n",
       "      <td>NaN</td>\n",
       "      <td>The Wonderful World Of The Young</td>\n",
       "      <td>0.828000</td>\n",
       "      <td>https://api.spotify.com/v1/audio-analysis/1wlP...</td>\n",
       "      <td>0.177</td>\n",
       "      <td>149187.0</td>\n",
       "      <td>0.162</td>\n",
       "      <td>1wlPVZpAHotYmO7JRfVkGx</td>\n",
       "      <td>0.000000</td>\n",
       "      <td>5.0</td>\n",
       "      <td>0.1200</td>\n",
       "      <td>-15.821</td>\n",
       "      <td>1.0</td>\n",
       "      <td>0.0335</td>\n",
       "      <td>174.572</td>\n",
       "      <td>3.0</td>\n",
       "      <td>https://api.spotify.com/v1/tracks/1wlPVZpAHotY...</td>\n",
       "      <td>audio_features</td>\n",
       "      <td>spotify:track:1wlPVZpAHotYmO7JRfVkGx</td>\n",
       "      <td>0.187</td>\n",
       "    </tr>\n",
       "    <tr>\n",
       "      <th>0</th>\n",
       "      <td>NaN</td>\n",
       "      <td>Sentimental Man</td>\n",
       "      <td>0.943000</td>\n",
       "      <td>https://api.spotify.com/v1/audio-analysis/3173...</td>\n",
       "      <td>0.363</td>\n",
       "      <td>76067.0</td>\n",
       "      <td>0.114</td>\n",
       "      <td>3173yykxdnGmWEASuLPSo8</td>\n",
       "      <td>0.000330</td>\n",
       "      <td>11.0</td>\n",
       "      <td>0.1160</td>\n",
       "      <td>-15.183</td>\n",
       "      <td>1.0</td>\n",
       "      <td>0.0477</td>\n",
       "      <td>119.111</td>\n",
       "      <td>4.0</td>\n",
       "      <td>https://api.spotify.com/v1/tracks/3173yykxdnGm...</td>\n",
       "      <td>audio_features</td>\n",
       "      <td>spotify:track:3173yykxdnGmWEASuLPSo8</td>\n",
       "      <td>0.160</td>\n",
       "    </tr>\n",
       "    <tr>\n",
       "      <th>0</th>\n",
       "      <td>NaN</td>\n",
       "      <td>Zydeco In D-Minor</td>\n",
       "      <td>0.084400</td>\n",
       "      <td>https://api.spotify.com/v1/audio-analysis/5DqB...</td>\n",
       "      <td>0.369</td>\n",
       "      <td>300773.0</td>\n",
       "      <td>0.771</td>\n",
       "      <td>5DqBIhTIAOUQRsmqe5f0oA</td>\n",
       "      <td>0.000762</td>\n",
       "      <td>0.0</td>\n",
       "      <td>0.9870</td>\n",
       "      <td>-12.679</td>\n",
       "      <td>1.0</td>\n",
       "      <td>0.2240</td>\n",
       "      <td>139.026</td>\n",
       "      <td>4.0</td>\n",
       "      <td>https://api.spotify.com/v1/tracks/5DqBIhTIAOUQ...</td>\n",
       "      <td>audio_features</td>\n",
       "      <td>spotify:track:5DqBIhTIAOUQRsmqe5f0oA</td>\n",
       "      <td>0.657</td>\n",
       "    </tr>\n",
       "    <tr>\n",
       "      <th>0</th>\n",
       "      <td>NaN</td>\n",
       "      <td>Shattered Life</td>\n",
       "      <td>0.000429</td>\n",
       "      <td>https://api.spotify.com/v1/audio-analysis/2CQw...</td>\n",
       "      <td>0.406</td>\n",
       "      <td>209693.0</td>\n",
       "      <td>0.895</td>\n",
       "      <td>2CQwzG5nbS7ys8CHSlavVg</td>\n",
       "      <td>0.000032</td>\n",
       "      <td>2.0</td>\n",
       "      <td>0.1200</td>\n",
       "      <td>-5.282</td>\n",
       "      <td>0.0</td>\n",
       "      <td>0.0563</td>\n",
       "      <td>150.326</td>\n",
       "      <td>4.0</td>\n",
       "      <td>https://api.spotify.com/v1/tracks/2CQwzG5nbS7y...</td>\n",
       "      <td>audio_features</td>\n",
       "      <td>spotify:track:2CQwzG5nbS7ys8CHSlavVg</td>\n",
       "      <td>0.281</td>\n",
       "    </tr>\n",
       "  </tbody>\n",
       "</table>\n",
       "</div>"
      ],
      "text/plain": [
       "     0                        track_name  acousticness  \\\n",
       "0  NaN                    The Hanged Man      0.000804   \n",
       "0  NaN  The Wonderful World Of The Young      0.828000   \n",
       "0  NaN                   Sentimental Man      0.943000   \n",
       "0  NaN                 Zydeco In D-Minor      0.084400   \n",
       "0  NaN                    Shattered Life      0.000429   \n",
       "\n",
       "                                        analysis_url  danceability  \\\n",
       "0  https://api.spotify.com/v1/audio-analysis/09KV...         0.429   \n",
       "0  https://api.spotify.com/v1/audio-analysis/1wlP...         0.177   \n",
       "0  https://api.spotify.com/v1/audio-analysis/3173...         0.363   \n",
       "0  https://api.spotify.com/v1/audio-analysis/5DqB...         0.369   \n",
       "0  https://api.spotify.com/v1/audio-analysis/2CQw...         0.406   \n",
       "\n",
       "   duration_ms  energy                      id  instrumentalness   key  \\\n",
       "0     178667.0   0.983  09KV0rktYI4wo1T5KDDrbN          0.001160   9.0   \n",
       "0     149187.0   0.162  1wlPVZpAHotYmO7JRfVkGx          0.000000   5.0   \n",
       "0      76067.0   0.114  3173yykxdnGmWEASuLPSo8          0.000330  11.0   \n",
       "0     300773.0   0.771  5DqBIhTIAOUQRsmqe5f0oA          0.000762   0.0   \n",
       "0     209693.0   0.895  2CQwzG5nbS7ys8CHSlavVg          0.000032   2.0   \n",
       "\n",
       "   liveness  loudness  mode  speechiness    tempo  time_signature  \\\n",
       "0    0.0929    -3.178   0.0       0.1500  156.066             4.0   \n",
       "0    0.1200   -15.821   1.0       0.0335  174.572             3.0   \n",
       "0    0.1160   -15.183   1.0       0.0477  119.111             4.0   \n",
       "0    0.9870   -12.679   1.0       0.2240  139.026             4.0   \n",
       "0    0.1200    -5.282   0.0       0.0563  150.326             4.0   \n",
       "\n",
       "                                          track_href            type  \\\n",
       "0  https://api.spotify.com/v1/tracks/09KV0rktYI4w...  audio_features   \n",
       "0  https://api.spotify.com/v1/tracks/1wlPVZpAHotY...  audio_features   \n",
       "0  https://api.spotify.com/v1/tracks/3173yykxdnGm...  audio_features   \n",
       "0  https://api.spotify.com/v1/tracks/5DqBIhTIAOUQ...  audio_features   \n",
       "0  https://api.spotify.com/v1/tracks/2CQwzG5nbS7y...  audio_features   \n",
       "\n",
       "                                    uri  valence  \n",
       "0  spotify:track:09KV0rktYI4wo1T5KDDrbN    0.101  \n",
       "0  spotify:track:1wlPVZpAHotYmO7JRfVkGx    0.187  \n",
       "0  spotify:track:3173yykxdnGmWEASuLPSo8    0.160  \n",
       "0  spotify:track:5DqBIhTIAOUQRsmqe5f0oA    0.657  \n",
       "0  spotify:track:2CQwzG5nbS7ys8CHSlavVg    0.281  "
      ]
     },
     "execution_count": 285,
     "metadata": {},
     "output_type": "execute_result"
    }
   ],
   "source": [
    "df.tail(5)"
   ]
  },
  {
   "cell_type": "code",
   "execution_count": 297,
   "metadata": {
    "collapsed": false
   },
   "outputs": [
    {
     "data": {
      "text/plain": [
       "10000"
      ]
     },
     "execution_count": 297,
     "metadata": {},
     "output_type": "execute_result"
    }
   ],
   "source": [
    "len(df_spotify)"
   ]
  },
  {
   "cell_type": "code",
   "execution_count": 306,
   "metadata": {
    "collapsed": true
   },
   "outputs": [],
   "source": [
    "df_spotify['track_title'] = tracks"
   ]
  },
  {
   "cell_type": "code",
   "execution_count": 308,
   "metadata": {
    "collapsed": false
   },
   "outputs": [],
   "source": [
    "df_spotify = df_spotify.drop('track_name', axis=1)"
   ]
  },
  {
   "cell_type": "markdown",
   "metadata": {},
   "source": [
    "#### checks on data "
   ]
  },
  {
   "cell_type": "code",
   "execution_count": 320,
   "metadata": {
    "collapsed": false
   },
   "outputs": [
    {
     "data": {
      "text/html": [
       "<div>\n",
       "<table border=\"1\" class=\"dataframe\">\n",
       "  <thead>\n",
       "    <tr style=\"text-align: right;\">\n",
       "      <th></th>\n",
       "      <th>acousticness</th>\n",
       "      <th>analysis_url</th>\n",
       "      <th>danceability</th>\n",
       "      <th>duration_ms</th>\n",
       "      <th>energy</th>\n",
       "      <th>id</th>\n",
       "      <th>instrumentalness</th>\n",
       "      <th>key</th>\n",
       "      <th>liveness</th>\n",
       "      <th>loudness</th>\n",
       "      <th>mode</th>\n",
       "      <th>speechiness</th>\n",
       "      <th>tempo</th>\n",
       "      <th>time_signature</th>\n",
       "      <th>track_href</th>\n",
       "      <th>type</th>\n",
       "      <th>uri</th>\n",
       "      <th>valence</th>\n",
       "      <th>0</th>\n",
       "      <th>track_title</th>\n",
       "    </tr>\n",
       "  </thead>\n",
       "  <tbody>\n",
       "    <tr>\n",
       "      <th>0</th>\n",
       "      <td>0.314</td>\n",
       "      <td>https://api.spotify.com/v1/audio-analysis/4SCH...</td>\n",
       "      <td>0.965</td>\n",
       "      <td>187925.0</td>\n",
       "      <td>0.811</td>\n",
       "      <td>4SCH5CuivFcShLpTg8lYOf</td>\n",
       "      <td>0.000148</td>\n",
       "      <td>1.0</td>\n",
       "      <td>0.187</td>\n",
       "      <td>-1.756</td>\n",
       "      <td>0.0</td>\n",
       "      <td>0.134</td>\n",
       "      <td>130.015</td>\n",
       "      <td>4</td>\n",
       "      <td>https://api.spotify.com/v1/tracks/4SCH5CuivFcS...</td>\n",
       "      <td>audio_features</td>\n",
       "      <td>spotify:track:4SCH5CuivFcShLpTg8lYOf</td>\n",
       "      <td>0.16</td>\n",
       "      <td>NaN</td>\n",
       "      <td>Granada</td>\n",
       "    </tr>\n",
       "    <tr>\n",
       "      <th>0</th>\n",
       "      <td>0.0436</td>\n",
       "      <td>https://api.spotify.com/v1/audio-analysis/7gCd...</td>\n",
       "      <td>0.412</td>\n",
       "      <td>180707.0</td>\n",
       "      <td>0.573</td>\n",
       "      <td>7gCdUfplRZJEsdTBy2qjrU</td>\n",
       "      <td>0.594</td>\n",
       "      <td>0.0</td>\n",
       "      <td>0.192</td>\n",
       "      <td>-6.541</td>\n",
       "      <td>1.0</td>\n",
       "      <td>0.032</td>\n",
       "      <td>115.000</td>\n",
       "      <td>3</td>\n",
       "      <td>https://api.spotify.com/v1/tracks/7gCdUfplRZJE...</td>\n",
       "      <td>audio_features</td>\n",
       "      <td>spotify:track:7gCdUfplRZJEsdTBy2qjrU</td>\n",
       "      <td>0.24</td>\n",
       "      <td>NaN</td>\n",
       "      <td>Xoanina</td>\n",
       "    </tr>\n",
       "  </tbody>\n",
       "</table>\n",
       "</div>"
      ],
      "text/plain": [
       "  acousticness                                       analysis_url  \\\n",
       "0        0.314  https://api.spotify.com/v1/audio-analysis/4SCH...   \n",
       "0       0.0436  https://api.spotify.com/v1/audio-analysis/7gCd...   \n",
       "\n",
       "  danceability  duration_ms energy                      id instrumentalness  \\\n",
       "0        0.965     187925.0  0.811  4SCH5CuivFcShLpTg8lYOf         0.000148   \n",
       "0        0.412     180707.0  0.573  7gCdUfplRZJEsdTBy2qjrU            0.594   \n",
       "\n",
       "   key liveness  loudness  mode speechiness    tempo time_signature  \\\n",
       "0  1.0    0.187    -1.756   0.0       0.134  130.015              4   \n",
       "0  0.0    0.192    -6.541   1.0       0.032  115.000              3   \n",
       "\n",
       "                                          track_href            type  \\\n",
       "0  https://api.spotify.com/v1/tracks/4SCH5CuivFcS...  audio_features   \n",
       "0  https://api.spotify.com/v1/tracks/7gCdUfplRZJE...  audio_features   \n",
       "\n",
       "                                    uri valence    0 track_title  \n",
       "0  spotify:track:4SCH5CuivFcShLpTg8lYOf    0.16  NaN     Granada  \n",
       "0  spotify:track:7gCdUfplRZJEsdTBy2qjrU    0.24  NaN     Xoanina  "
      ]
     },
     "execution_count": 320,
     "metadata": {},
     "output_type": "execute_result"
    }
   ],
   "source": [
    "df_spotify.iloc[6765:6767]"
   ]
  },
  {
   "cell_type": "code",
   "execution_count": 384,
   "metadata": {
    "collapsed": false
   },
   "outputs": [],
   "source": [
    "artists = list(msd.artist)"
   ]
  },
  {
   "cell_type": "code",
   "execution_count": 386,
   "metadata": {
    "collapsed": false
   },
   "outputs": [
    {
     "data": {
      "text/plain": [
       "10000"
      ]
     },
     "execution_count": 386,
     "metadata": {},
     "output_type": "execute_result"
    }
   ],
   "source": [
    "len(artists)"
   ]
  },
  {
   "cell_type": "code",
   "execution_count": 387,
   "metadata": {
    "collapsed": true
   },
   "outputs": [],
   "source": [
    "df_tracks['artist'] = artists"
   ]
  },
  {
   "cell_type": "code",
   "execution_count": 388,
   "metadata": {
    "collapsed": false
   },
   "outputs": [],
   "source": [
    "df_tracks = df_tracks.drop(df_tracks.columns[-3], axis =1) "
   ]
  },
  {
   "cell_type": "code",
   "execution_count": 389,
   "metadata": {
    "collapsed": true
   },
   "outputs": [],
   "source": [
    "with open('dataframes/billboard_unique.pkl', 'rb') as picklefile:\n",
    "    bb = pickle.load(picklefile)"
   ]
  },
  {
   "cell_type": "markdown",
   "metadata": {},
   "source": [
    "### Use Billboard tracks to assign target variable. If track was on Billboard, assign 1, if not, assign 0"
   ]
  },
  {
   "cell_type": "code",
   "execution_count": 390,
   "metadata": {
    "collapsed": true
   },
   "outputs": [],
   "source": [
    "bb_tracks = list(bb.track)\n",
    "\n",
    "def find_target(row):\n",
    "    lst = bb_tracks\n",
    "    if row['track_title'] in lst:\n",
    "        return 1\n",
    "    else:\n",
    "        return 0"
   ]
  },
  {
   "cell_type": "code",
   "execution_count": 391,
   "metadata": {
    "collapsed": false
   },
   "outputs": [],
   "source": [
    "df_tracks['target'] = df_tracks.apply(find_target, axis=1)"
   ]
  },
  {
   "cell_type": "markdown",
   "metadata": {},
   "source": [
    "### Looking at class imbalance, we see that 11% of data is target variable"
   ]
  },
  {
   "cell_type": "code",
   "execution_count": 392,
   "metadata": {
    "collapsed": false
   },
   "outputs": [
    {
     "data": {
      "text/plain": [
       "0    8819\n",
       "1    1181\n",
       "Name: target, dtype: int64"
      ]
     },
     "execution_count": 392,
     "metadata": {},
     "output_type": "execute_result"
    }
   ],
   "source": [
    "df_tracks.target.value_counts()"
   ]
  },
  {
   "cell_type": "code",
   "execution_count": 410,
   "metadata": {
    "collapsed": true
   },
   "outputs": [],
   "source": [
    "with open('dataframes/spotify_tracks_clean.pkl', 'rb') as picklefile:\n",
    "    df_tracks = pickle.load(picklefile)"
   ]
  },
  {
   "cell_type": "code",
   "execution_count": 413,
   "metadata": {
    "collapsed": false
   },
   "outputs": [
    {
     "name": "stderr",
     "output_type": "stream",
     "text": [
      "/Users/brianturner/anaconda/lib/python3.6/site-packages/ipykernel/__main__.py:1: FutureWarning: convert_objects is deprecated.  Use the data-type specific converters pd.to_datetime, pd.to_timedelta and pd.to_numeric.\n",
      "  if __name__ == '__main__':\n"
     ]
    }
   ],
   "source": [
    "df_tracks = df_tracks.convert_objects()"
   ]
  },
  {
   "cell_type": "code",
   "execution_count": 415,
   "metadata": {
    "collapsed": false
   },
   "outputs": [
    {
     "data": {
      "text/plain": [
       "acousticness        float64\n",
       "analysis_url         object\n",
       "danceability        float64\n",
       "duration_ms         float64\n",
       "energy              float64\n",
       "id                   object\n",
       "instrumentalness    float64\n",
       "key                 float64\n",
       "liveness            float64\n",
       "loudness            float64\n",
       "mode                float64\n",
       "speechiness         float64\n",
       "tempo               float64\n",
       "time_signature      float64\n",
       "track_href           object\n",
       "type                 object\n",
       "uri                  object\n",
       "valence             float64\n",
       "track_title          object\n",
       "artist               object\n",
       "target                int64\n",
       "dtype: object"
      ]
     },
     "execution_count": 415,
     "metadata": {},
     "output_type": "execute_result"
    }
   ],
   "source": [
    "df_tracks.dtypes"
   ]
  },
  {
   "cell_type": "code",
   "execution_count": 416,
   "metadata": {
    "collapsed": true
   },
   "outputs": [],
   "source": [
    "import numpy as np\n",
    "def fillMedian(df):\n",
    "    return df.fillna(df.median()).dropna(axis=1, how='all')"
   ]
  },
  {
   "cell_type": "code",
   "execution_count": 417,
   "metadata": {
    "collapsed": true
   },
   "outputs": [],
   "source": [
    "df_tracks = fillMedian(df_tracks)"
   ]
  },
  {
   "cell_type": "code",
   "execution_count": 419,
   "metadata": {
    "collapsed": false
   },
   "outputs": [],
   "source": [
    "df_spotify_model1 = df_tracks.select_dtypes(exclude=[object]).dropna()"
   ]
  },
  {
   "cell_type": "code",
   "execution_count": 423,
   "metadata": {
    "collapsed": false
   },
   "outputs": [],
   "source": [
    "df_spotify_model = df_spotify_model1.reset_index(drop=True)"
   ]
  },
  {
   "cell_type": "code",
   "execution_count": 437,
   "metadata": {
    "collapsed": false
   },
   "outputs": [],
   "source": [
    "with open('dataframes/spotify_model_data1.pkl', 'wb') as picklefile:\n",
    "    pickle.dump(df_spotify_model, picklefile)"
   ]
  },
  {
   "cell_type": "code",
   "execution_count": null,
   "metadata": {
    "collapsed": true
   },
   "outputs": [],
   "source": []
  }
 ],
 "metadata": {
  "kernelspec": {
   "display_name": "Python 3",
   "language": "python",
   "name": "python3"
  },
  "language_info": {
   "codemirror_mode": {
    "name": "ipython",
    "version": 3
   },
   "file_extension": ".py",
   "mimetype": "text/x-python",
   "name": "python",
   "nbconvert_exporter": "python",
   "pygments_lexer": "ipython3",
   "version": "3.6.0"
  }
 },
 "nbformat": 4,
 "nbformat_minor": 2
}
