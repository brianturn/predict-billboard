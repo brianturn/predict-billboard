{
 "cells": [
  {
   "cell_type": "markdown",
   "metadata": {},
   "source": [
    "### Modeling K-Nearest Neighbors, Decision Trees and Gradient Boosting Decision Trees."
   ]
  },
  {
   "cell_type": "markdown",
   "metadata": {},
   "source": [
    "#### Gradient Boosting performs the best: Accuracy of 71%, Precision of 53% and F1 of 42% (harmonic mean ratio of precision and recall)."
   ]
  },
  {
   "cell_type": "code",
   "execution_count": 2,
   "metadata": {
    "collapsed": false
   },
   "outputs": [],
   "source": [
    "import pickle\n",
    "import pandas as pd\n",
    "import numpy as np \n",
    "\n",
    "from sklearn.cross_validation import train_test_split\n",
    "from sklearn.neighbors import KNeighborsClassifier\n",
    "from sklearn.linear_model import LogisticRegression\n",
    "from sklearn.svm import SVC\n",
    "from sklearn.naive_bayes import GaussianNB\n",
    "from sklearn.tree import DecisionTreeClassifier\n",
    "from sklearn.ensemble import RandomForestClassifier\n",
    "from sklearn.metrics import classification_report\n",
    "\n",
    "from sklearn.metrics import accuracy_score, precision_score, recall_score, f1_score\n",
    "from sklearn.cross_validation import cross_val_score\n",
    "from sklearn.model_selection import StratifiedShuffleSplit\n",
    "sss = StratifiedShuffleSplit(n_splits=1, test_size=.3)\n",
    "import matplotlib.pyplot as plt\n",
    "%matplotlib inline\n",
    "from sklearn.metrics import roc_curve, auc\n",
    "from sklearn.model_selection import GridSearchCV\n",
    "from sklearn.ensemble import GradientBoostingClassifier"
   ]
  },
  {
   "cell_type": "code",
   "execution_count": 4,
   "metadata": {
    "collapsed": false
   },
   "outputs": [],
   "source": [
    "with open('dataframes/df_master.pkl', 'rb') as picklefile:\n",
    "    df = pickle.load(picklefile)"
   ]
  },
  {
   "cell_type": "code",
   "execution_count": 5,
   "metadata": {
    "collapsed": false
   },
   "outputs": [
    {
     "data": {
      "text/html": [
       "<div>\n",
       "<table border=\"1\" class=\"dataframe\">\n",
       "  <thead>\n",
       "    <tr style=\"text-align: right;\">\n",
       "      <th></th>\n",
       "      <th>acousticness</th>\n",
       "      <th>danceability</th>\n",
       "      <th>duration_ms</th>\n",
       "      <th>energy</th>\n",
       "      <th>instrumentalness</th>\n",
       "      <th>key</th>\n",
       "      <th>liveness</th>\n",
       "      <th>loudness</th>\n",
       "      <th>mode</th>\n",
       "      <th>speechiness</th>\n",
       "      <th>tempo</th>\n",
       "      <th>time_signature</th>\n",
       "      <th>valence</th>\n",
       "      <th>target</th>\n",
       "    </tr>\n",
       "  </thead>\n",
       "  <tbody>\n",
       "    <tr>\n",
       "      <th>0</th>\n",
       "      <td>0.000007</td>\n",
       "      <td>0.269</td>\n",
       "      <td>280213.0</td>\n",
       "      <td>0.993</td>\n",
       "      <td>0.134000</td>\n",
       "      <td>5.0</td>\n",
       "      <td>0.1950</td>\n",
       "      <td>-3.219</td>\n",
       "      <td>1.0</td>\n",
       "      <td>0.1710</td>\n",
       "      <td>87.795</td>\n",
       "      <td>3.0</td>\n",
       "      <td>0.221</td>\n",
       "      <td>0</td>\n",
       "    </tr>\n",
       "    <tr>\n",
       "      <th>1</th>\n",
       "      <td>0.277000</td>\n",
       "      <td>0.644</td>\n",
       "      <td>417560.0</td>\n",
       "      <td>0.501</td>\n",
       "      <td>0.000000</td>\n",
       "      <td>5.0</td>\n",
       "      <td>0.1310</td>\n",
       "      <td>-5.761</td>\n",
       "      <td>0.0</td>\n",
       "      <td>0.0299</td>\n",
       "      <td>116.032</td>\n",
       "      <td>4.0</td>\n",
       "      <td>0.374</td>\n",
       "      <td>0</td>\n",
       "    </tr>\n",
       "    <tr>\n",
       "      <th>2</th>\n",
       "      <td>0.140000</td>\n",
       "      <td>0.859</td>\n",
       "      <td>483967.0</td>\n",
       "      <td>0.440</td>\n",
       "      <td>0.537000</td>\n",
       "      <td>9.0</td>\n",
       "      <td>0.6890</td>\n",
       "      <td>-11.224</td>\n",
       "      <td>0.0</td>\n",
       "      <td>0.0514</td>\n",
       "      <td>121.002</td>\n",
       "      <td>4.0</td>\n",
       "      <td>0.739</td>\n",
       "      <td>1</td>\n",
       "    </tr>\n",
       "    <tr>\n",
       "      <th>3</th>\n",
       "      <td>0.689000</td>\n",
       "      <td>0.699</td>\n",
       "      <td>183027.0</td>\n",
       "      <td>0.519</td>\n",
       "      <td>0.000471</td>\n",
       "      <td>8.0</td>\n",
       "      <td>0.9350</td>\n",
       "      <td>-6.422</td>\n",
       "      <td>1.0</td>\n",
       "      <td>0.0290</td>\n",
       "      <td>102.463</td>\n",
       "      <td>4.0</td>\n",
       "      <td>0.664</td>\n",
       "      <td>0</td>\n",
       "    </tr>\n",
       "    <tr>\n",
       "      <th>4</th>\n",
       "      <td>0.179000</td>\n",
       "      <td>0.813</td>\n",
       "      <td>200705.0</td>\n",
       "      <td>0.683</td>\n",
       "      <td>0.000000</td>\n",
       "      <td>6.0</td>\n",
       "      <td>0.0748</td>\n",
       "      <td>-3.813</td>\n",
       "      <td>0.0</td>\n",
       "      <td>0.0285</td>\n",
       "      <td>107.950</td>\n",
       "      <td>4.0</td>\n",
       "      <td>0.685</td>\n",
       "      <td>0</td>\n",
       "    </tr>\n",
       "  </tbody>\n",
       "</table>\n",
       "</div>"
      ],
      "text/plain": [
       "   acousticness  danceability  duration_ms  energy  instrumentalness  key  \\\n",
       "0      0.000007         0.269     280213.0   0.993          0.134000  5.0   \n",
       "1      0.277000         0.644     417560.0   0.501          0.000000  5.0   \n",
       "2      0.140000         0.859     483967.0   0.440          0.537000  9.0   \n",
       "3      0.689000         0.699     183027.0   0.519          0.000471  8.0   \n",
       "4      0.179000         0.813     200705.0   0.683          0.000000  6.0   \n",
       "\n",
       "   liveness  loudness  mode  speechiness    tempo  time_signature  valence  \\\n",
       "0    0.1950    -3.219   1.0       0.1710   87.795             3.0    0.221   \n",
       "1    0.1310    -5.761   0.0       0.0299  116.032             4.0    0.374   \n",
       "2    0.6890   -11.224   0.0       0.0514  121.002             4.0    0.739   \n",
       "3    0.9350    -6.422   1.0       0.0290  102.463             4.0    0.664   \n",
       "4    0.0748    -3.813   0.0       0.0285  107.950             4.0    0.685   \n",
       "\n",
       "   target  \n",
       "0       0  \n",
       "1       0  \n",
       "2       1  \n",
       "3       0  \n",
       "4       0  "
      ]
     },
     "execution_count": 5,
     "metadata": {},
     "output_type": "execute_result"
    }
   ],
   "source": [
    "df.head()"
   ]
  },
  {
   "cell_type": "markdown",
   "metadata": {},
   "source": [
    "### Use a stratified shuffle split, with minority class at 30%. "
   ]
  },
  {
   "cell_type": "code",
   "execution_count": 6,
   "metadata": {
    "collapsed": false
   },
   "outputs": [
    {
     "data": {
      "text/plain": [
       "(0    0.695236\n",
       " 1    0.304764\n",
       " Name: target, dtype: float64, 0    0.695218\n",
       " 1    0.304782\n",
       " Name: target, dtype: float64)"
      ]
     },
     "execution_count": 6,
     "metadata": {},
     "output_type": "execute_result"
    }
   ],
   "source": [
    "X = df.iloc[:,:-1]\n",
    "\n",
    "y = df['target']\n",
    "\n",
    "for train_index, test_index in sss.split(X,y):\n",
    "    X_train = X.iloc[train_index]\n",
    "    X_test = X.iloc[test_index]\n",
    "    y_train = y.iloc[train_index]\n",
    "    y_test = y.iloc[test_index]\n",
    "    \n",
    "\n",
    "y_train.value_counts(normalize=True), y_test.value_counts(normalize=True)"
   ]
  },
  {
   "cell_type": "code",
   "execution_count": 276,
   "metadata": {
    "collapsed": false
   },
   "outputs": [
    {
     "data": {
      "text/plain": [
       "0    2646\n",
       "1    1160\n",
       "Name: target, dtype: int64"
      ]
     },
     "execution_count": 276,
     "metadata": {},
     "output_type": "execute_result"
    }
   ],
   "source": [
    "y_test.value_counts()"
   ]
  },
  {
   "cell_type": "markdown",
   "metadata": {},
   "source": [
    "### Compare K-Nearest Neighbors"
   ]
  },
  {
   "cell_type": "code",
   "execution_count": 270,
   "metadata": {
    "collapsed": false
   },
   "outputs": [
    {
     "name": "stdout",
     "output_type": "stream",
     "text": [
      "KNN 1\n",
      "Accuracy: 0.614555964267\n",
      "Precision: 0.370025402202\n",
      "Recall: 0.376724137931\n",
      "F1: 0.373344724477\n",
      "KNN 2\n",
      "Accuracy: 0.668681029953\n",
      "Precision: 0.39501039501\n",
      "Recall: 0.163793103448\n",
      "F1: 0.231566118221\n",
      "KNN 3\n",
      "Accuracy: 0.633736205991\n",
      "Precision: 0.378881987578\n",
      "Recall: 0.315517241379\n",
      "F1: 0.344308560677\n",
      "KNN 4\n",
      "Accuracy: 0.667630057803\n",
      "Precision: 0.387580299786\n",
      "Recall: 0.156034482759\n",
      "F1: 0.222495390289\n",
      "KNN 5\n",
      "Accuracy: 0.640830267998\n",
      "Precision: 0.371428571429\n",
      "Recall: 0.25775862069\n",
      "F1: 0.304325699746\n",
      "KNN 6\n",
      "Accuracy: 0.669994745139\n",
      "Precision: 0.392857142857\n",
      "Recall: 0.151724137931\n",
      "F1: 0.218905472637\n",
      "KNN 7\n",
      "Accuracy: 0.654230162901\n",
      "Precision: 0.384272997033\n",
      "Recall: 0.223275862069\n",
      "F1: 0.282442748092\n",
      "KNN 8\n",
      "Accuracy: 0.667630057803\n",
      "Precision: 0.374701670644\n",
      "Recall: 0.135344827586\n",
      "F1: 0.198860037999\n",
      "KNN 9\n",
      "Accuracy: 0.660010509721\n",
      "Precision: 0.392282958199\n",
      "Recall: 0.210344827586\n",
      "F1: 0.273849607183\n",
      "KNN 10\n",
      "Accuracy: 0.672096689438\n",
      "Precision: 0.388888888889\n",
      "Recall: 0.13275862069\n",
      "F1: 0.19794344473\n",
      "KNN 11\n",
      "Accuracy: 0.662900683132\n",
      "Precision: 0.394148020654\n",
      "Recall: 0.197413793103\n",
      "F1: 0.263067202757\n",
      "KNN 12\n",
      "Accuracy: 0.676300578035\n",
      "Precision: 0.395348837209\n",
      "Recall: 0.11724137931\n",
      "F1: 0.18085106383\n",
      "KNN 13\n",
      "Accuracy: 0.667367314766\n",
      "Precision: 0.393574297189\n",
      "Recall: 0.168965517241\n",
      "F1: 0.236429433052\n",
      "KNN 14\n",
      "Accuracy: 0.683394640042\n",
      "Precision: 0.43119266055\n",
      "Recall: 0.121551724138\n",
      "F1: 0.189643577673\n",
      "KNN 15\n",
      "Accuracy: 0.677614293221\n",
      "Precision: 0.425720620843\n",
      "Recall: 0.165517241379\n",
      "F1: 0.238361266294\n",
      "KNN 16\n",
      "Accuracy: 0.685496584341\n",
      "Precision: 0.438127090301\n",
      "Recall: 0.112931034483\n",
      "F1: 0.179575051405\n",
      "KNN 17\n",
      "Accuracy: 0.677614293221\n",
      "Precision: 0.416458852868\n",
      "Recall: 0.143965517241\n",
      "F1: 0.213965406791\n",
      "KNN 18\n",
      "Accuracy: 0.689174986863\n",
      "Precision: 0.457564575646\n",
      "Recall: 0.106896551724\n",
      "F1: 0.173305380853\n",
      "KNN 19\n",
      "Accuracy: 0.680504466632\n",
      "Precision: 0.42349726776\n",
      "Recall: 0.133620689655\n",
      "F1: 0.203145478375\n",
      "KNN 20\n",
      "Accuracy: 0.686810299527\n",
      "Precision: 0.429203539823\n",
      "Recall: 0.0836206896552\n",
      "F1: 0.139971139971\n"
     ]
    }
   ],
   "source": [
    "for k in range(1, 21):\n",
    "    knn_model = KNeighborsClassifier(n_neighbors=k)\n",
    "    knn_model.fit(X_train, y_train)\n",
    "    y_pred = knn_model.predict(X_test)\n",
    "    knn_accuracy = accuracy_score(y_test, y_pred)\n",
    "    knn_precision = precision_score(y_test, y_pred)\n",
    "    knn_recall = recall_score(y_test, y_pred)\n",
    "    knn_f1 = f1_score(y_test, y_pred)\n",
    "    print('KNN', k)\n",
    "    print('Accuracy:', knn_accuracy)\n",
    "    print('Precision:', knn_precision)\n",
    "    print('Recall:', knn_recall)\n",
    "    print('F1:', knn_f1)"
   ]
  },
  {
   "cell_type": "markdown",
   "metadata": {},
   "source": [
    "### ROC Curve for KNN = 5 "
   ]
  },
  {
   "cell_type": "code",
   "execution_count": 391,
   "metadata": {
    "collapsed": false
   },
   "outputs": [
    {
     "name": "stdout",
     "output_type": "stream",
     "text": [
      "AUC KNN=5 0.597194203352\n",
      "Accuracy: 0.640830267998\n",
      "Precision: 0.371428571429\n",
      "Recall: 0.25775862069\n",
      "F1: 0.304325699746\n",
      "2140 506 861 299\n"
     ]
    },
    {
     "data": {
      "image/png": "[encoded data removed]",
      "text/plain": [
       "<matplotlib.figure.Figure at 0x1179af240>"
      ]
     },
     "metadata": {},
     "output_type": "display_data"
    }
   ],
   "source": [
    "knn2_model = KNeighborsClassifier(n_neighbors=5)\n",
    "knn2_model.fit(X_train, y_train)\n",
    "knn2_y_pred = knn2_model.predict(X_test)\n",
    "\n",
    "knn2_y_score = knn2_model.predict_proba(X_test)\n",
    "knn2_roc_data = roc_curve(y_test, knn2_y_score[:,1])\n",
    "fig, ax2 = plt.subplots(figsize=(8,6))\n",
    "ax2.plot(knn2_roc_data[0], knn2_roc_data[1])\n",
    "ax2.plot(knn2_roc_data[0], knn2_roc_data[0], linestyle='dashed')\n",
    "plt.title('ROC curve - KNN = 5', fontsize=14)\n",
    "plt.ylabel('True Positive Rate', fontsize=12)\n",
    "plt.xlabel('False Positive Rate', fontsize=12)\n",
    "knn2_auc = auc(knn2_roc_data[0], knn2_roc_data[1])\n",
    "print(\"AUC KNN=5\", knn2_auc)\n",
    "knn2_accuracy = accuracy_score(y_test, knn2_y_pred)\n",
    "knn2_precision = precision_score(y_test, knn2_y_pred)\n",
    "knn2_recall = recall_score(y_test, knn2_y_pred)\n",
    "knn2_f1 = f1_score(y_test, knn2_y_pred)\n",
    "\n",
    "print('Accuracy:', knn2_accuracy)\n",
    "print('Precision:', knn2_precision)\n",
    "print('Recall:', knn2_recall)\n",
    "print('F1:', knn2_f1)\n",
    "\n",
    "tn, fp, fn, tp = confusion_matrix(y_test, knn2_y_pred).ravel()\n",
    "print(tn, fp, fn, tp)\n",
    "\n",
    "\n"
   ]
  },
  {
   "cell_type": "markdown",
   "metadata": {},
   "source": [
    "### Confusion Matrix for KNN=5"
   ]
  },
  {
   "cell_type": "code",
   "execution_count": 426,
   "metadata": {
    "collapsed": false
   },
   "outputs": [
    {
     "data": {
      "image/png": "[encoded data removed]",
      "text/plain": [
       "<matplotlib.figure.Figure at 0x11bb95b00>"
      ]
     },
     "metadata": {},
     "output_type": "display_data"
    }
   ],
   "source": [
    "labels = ['Not Hot', 'Hot 100']\n",
    "cm = confusion_matrix(y_test, knn2_y_pred)\n",
    "#print(cm)\n",
    "fig = plt.figure()\n",
    "ax = fig.add_subplot(111)\n",
    "cax = ax.matshow(cm)\n",
    "#plt.title('Confusion matrix of the classifier')\n",
    "fig.colorbar(cax)\n",
    "ax.set_xticklabels([''] + labels, fontsize=18)\n",
    "ax.set_yticklabels([''] + labels, fontsize=18)\n",
    "ax.annotate('TN: 2140', xy=(-.2, -.04), color='white', fontsize=18, fontweight='bold')\n",
    "ax.annotate('FP: 506', xy=(.85, -.04), color='black', fontsize=18, fontweight='bold')\n",
    "ax.annotate('TP: 299', xy=(.85, 1.04), color='black', fontsize=18, fontweight='bold')\n",
    "ax.annotate('FN: 861', xy=(-.15, 1.04), color='black', fontsize=18, fontweight='bold')\n",
    "plt.xlabel('Predicted', fontsize=18, fontweight='bold')\n",
    "plt.ylabel('True', fontsize=18, fontweight='bold')\n",
    "\n",
    "plt.savefig(\"knn_confusion_matrix.png\");"
   ]
  },
  {
   "cell_type": "code",
   "execution_count": 160,
   "metadata": {
    "collapsed": false
   },
   "outputs": [],
   "source": [
    "import seaborn as sns\n",
    "sns.set_style('white')"
   ]
  },
  {
   "cell_type": "markdown",
   "metadata": {},
   "source": [
    "### Compare results with Decision Tree Classifier"
   ]
  },
  {
   "cell_type": "code",
   "execution_count": 402,
   "metadata": {
    "collapsed": false
   },
   "outputs": [
    {
     "name": "stdout",
     "output_type": "stream",
     "text": [
      "DECISION TREE SCORES\n",
      "Accuracy: 0.639779295849\n",
      "Precision: 0.410212765957\n",
      "Recall: 0.415517241379\n",
      "F1: 0.412847965739\n",
      "1953 693 678 482\n"
     ]
    }
   ],
   "source": [
    "from sklearn.metrics import confusion_matrix\n",
    "\n",
    "dtc_model = DecisionTreeClassifier()\n",
    "dtc_model.fit(X_train, y_train)\n",
    "dtc_y_pred = dtc_model.predict(X_test)\n",
    "dtc_accuracy = accuracy_score(y_test, dtc_y_pred)\n",
    "dtc_precision = precision_score(y_test, dtc_y_pred)\n",
    "dtc_recall = recall_score(y_test, dtc_y_pred)\n",
    "dtc_f1 = f1_score(y_test, dtc_y_pred)\n",
    "print('DECISION TREE SCORES')\n",
    "print('Accuracy:', dtc_accuracy)\n",
    "print('Precision:', dtc_precision)\n",
    "print('Recall:', dtc_recall)\n",
    "print('F1:', dtc_f1)\n",
    "tn, fp, fn, tp = confusion_matrix(y_test, dtc_y_pred).ravel()\n",
    "print(tn, fp, fn, tp)\n",
    "\n"
   ]
  },
  {
   "cell_type": "code",
   "execution_count": 427,
   "metadata": {
    "collapsed": false
   },
   "outputs": [
    {
     "data": {
      "image/png": "[encoded data removed]",
      "text/plain": [
       "<matplotlib.figure.Figure at 0x11fc715f8>"
      ]
     },
     "metadata": {},
     "output_type": "display_data"
    }
   ],
   "source": [
    "labels = ['Not Hot', 'Hot 100']\n",
    "cm_dtc = confusion_matrix(y_test, dtc_y_pred)\n",
    "\n",
    "fig = plt.figure()\n",
    "ax = fig.add_subplot(111)\n",
    "cax = ax.matshow(cm)\n",
    "#plt.title('Confusion matrix of the classifier')\n",
    "fig.colorbar(cax)\n",
    "ax.set_xticklabels([''] + labels, fontsize=18)\n",
    "ax.set_yticklabels([''] + labels, fontsize=18)\n",
    "plt.xlabel('Predicted', fontsize=18, fontweight='bold' )\n",
    "plt.ylabel('True', fontsize=18, fontweight='bold')\n",
    "ax.annotate('TN: 1953', xy=(-.2, -.04), color='white', fontsize=18, fontweight='bold')\n",
    "ax.annotate('FP: 693', xy=(.85, -.04), color='black', fontsize=18, fontweight='bold')\n",
    "ax.annotate('TP: 482', xy=(.85, 1.04), color='black', fontsize=18, fontweight='bold')\n",
    "ax.annotate('FN: 678', xy=(-.15, 1.04), color='black', fontsize=18, fontweight='bold')\n",
    "plt.savefig(\"dtc_confusion_matrix.png\");"
   ]
  },
  {
   "cell_type": "markdown",
   "metadata": {},
   "source": [
    "### The Winnner. Gradient Boosting Decision Trees with Grid Search optimization"
   ]
  },
  {
   "cell_type": "code",
   "execution_count": 47,
   "metadata": {
    "collapsed": false
   },
   "outputs": [
    {
     "name": "stdout",
     "output_type": "stream",
     "text": [
      "GRADIENT BOOSTING CLASSIFIER\n",
      "Accuracy: 0.707304256437\n",
      "Precision: 0.532033426184\n",
      "Recall: 0.329310344828\n",
      "F1: 0.42471042471\n"
     ]
    }
   ],
   "source": [
    "param_grid = {'n_estimators': [10, 50 , 100 , 200, 250, 300, 350], 'loss':['deviance'],\n",
    "             'max_depth': [3,4,5,6,7,8]}\n",
    "\n",
    "gbc = GridSearchCV(GradientBoostingClassifier(), param_grid=param_grid, scoring='recall')\n",
    "gbc.fit(X_train, y_train)\n",
    "gbc_y_pred = gbc.predict(X_test)\n",
    "gbc_accuracy = accuracy_score(y_test, gbc_y_pred)\n",
    "gbc_precision = precision_score(y_test, gbc_y_pred)\n",
    "gbc_recall = recall_score(y_test, gbc_y_pred)\n",
    "gbc_f1 = f1_score(y_test, gbc_y_pred)\n",
    "print('GRADIENT BOOSTING CLASSIFIER')\n",
    "print('Accuracy:', gbc_accuracy)\n",
    "print('Precision:', gbc_precision)\n",
    "print('Recall:', gbc_recall)\n",
    "print('F1:', dtc_f1)\n",
    "gbc_y_score = gbc.predict_proba(X_test)\n",
    "\n",
    "\n",
    "gbc_roc_data = roc_curve(y_test, gbc_y_score[:,1])\n"
   ]
  },
  {
   "cell_type": "markdown",
   "metadata": {},
   "source": [
    "### Gradient Boosting Confusion Matrix"
   ]
  },
  {
   "cell_type": "code",
   "execution_count": 312,
   "metadata": {
    "collapsed": false
   },
   "outputs": [
    {
     "name": "stdout",
     "output_type": "stream",
     "text": [
      "[[2310  336]\n",
      " [ 778  382]]\n"
     ]
    },
    {
     "data": {
      "image/png": "[encoded data removed]",
      "text/plain": [
       "<matplotlib.figure.Figure at 0x11d668160>"
      ]
     },
     "metadata": {},
     "output_type": "display_data"
    }
   ],
   "source": [
    "labels = ['Not Hot 100', 'Hot 100']\n",
    "cm = confusion_matrix(y_test, gbc_y_pred)\n",
    "print(cm)\n",
    "fig = plt.figure()\n",
    "ax = fig.add_subplot(111)\n",
    "cax = ax.matshow(cm)\n",
    "plt.title('Confusion matrix of the classifier')\n",
    "plt.colorbar(cax)\n",
    "ax.set_xticklabels([''] + labels)\n",
    "ax.set_yticklabels([''] + labels)\n",
    "plt.xlabel('Predicted')\n",
    "plt.ylabel('True')\n",
    "plt.show()"
   ]
  },
  {
   "cell_type": "markdown",
   "metadata": {},
   "source": [
    "### Gradient Boosting ROC Curve"
   ]
  },
  {
   "cell_type": "code",
   "execution_count": 418,
   "metadata": {
    "collapsed": false
   },
   "outputs": [
    {
     "data": {
      "image/png": "[encoded data removed]",
      "text/plain": [
       "<matplotlib.figure.Figure at 0x11d0c5a20>"
      ]
     },
     "metadata": {},
     "output_type": "display_data"
    }
   ],
   "source": [
    "\n",
    "fig, ax = plt.subplots(figsize=(7,6))\n",
    "ax.plot(gbc_roc_data[0], gbc_roc_data[1], color='r')\n",
    "ax.plot(gbc_roc_data[0], gbc_roc_data[0], linestyle='dashed', color='black')\n",
    "plt.suptitle('Predicting Billboard Hot 100', fontsize=16, fontweight='bold')\n",
    "plt.title('ROC curve', fontsize=14)\n",
    "plt.ylabel('True Positive Rate', fontsize=14)\n",
    "plt.xlabel('False Positive Rate', fontsize=14)\n",
    "plt.text(1,0.6,'AUC = 0.71',\n",
    "        verticalalignment='bottom', horizontalalignment='right',\n",
    "        color='black', fontsize=10, bbox={'facecolor':'white', 'alpha':0.5, 'pad':10})\n",
    "\n",
    "plt.savefig(\"roc_gradientboosting.png\");"
   ]
  },
  {
   "cell_type": "code",
   "execution_count": 193,
   "metadata": {
    "collapsed": false
   },
   "outputs": [
    {
     "data": {
      "text/plain": [
       "0.70935569630150908"
      ]
     },
     "execution_count": 193,
     "metadata": {},
     "output_type": "execute_result"
    }
   ],
   "source": [
    "gbc_auc = auc(gbc_roc_data[0], gbc_roc_data[1])\n",
    "gbc_auc"
   ]
  },
  {
   "cell_type": "code",
   "execution_count": 242,
   "metadata": {
    "collapsed": false
   },
   "outputs": [
    {
     "name": "stdout",
     "output_type": "stream",
     "text": [
      "[[2310  336]\n",
      " [ 778  382]]\n"
     ]
    },
    {
     "data": {
      "text/plain": [
       "(2310, 336, 778, 382)"
      ]
     },
     "execution_count": 242,
     "metadata": {},
     "output_type": "execute_result"
    }
   ],
   "source": [
    "confusion = confusion_matrix(y_test, gbc_y_pred)\n",
    "print(confusion)\n",
    "tn, fp, fn, tp = confusion_matrix(y_test, gbc_y_pred).ravel()\n",
    "tn, fp, fn, tp\n"
   ]
  },
  {
   "cell_type": "code",
   "execution_count": 243,
   "metadata": {
    "collapsed": false
   },
   "outputs": [
    {
     "data": {
      "text/plain": [
       "0    2646\n",
       "1    1160\n",
       "Name: target, dtype: int64"
      ]
     },
     "execution_count": 243,
     "metadata": {},
     "output_type": "execute_result"
    }
   ],
   "source": [
    "y_test.value_counts()"
   ]
  },
  {
   "cell_type": "code",
   "execution_count": 54,
   "metadata": {
    "collapsed": false
   },
   "outputs": [
    {
     "data": {
      "text/plain": [
       "718"
      ]
     },
     "execution_count": 54,
     "metadata": {},
     "output_type": "execute_result"
    }
   ],
   "source": [
    "sum(gbc_y_pred)"
   ]
  },
  {
   "cell_type": "code",
   "execution_count": 55,
   "metadata": {
    "collapsed": false
   },
   "outputs": [
    {
     "data": {
      "text/plain": [
       "{'loss': 'deviance', 'max_depth': 6, 'n_estimators': 350}"
      ]
     },
     "execution_count": 55,
     "metadata": {},
     "output_type": "execute_result"
    }
   ],
   "source": [
    "gbc.best_params_"
   ]
  },
  {
   "cell_type": "code",
   "execution_count": 56,
   "metadata": {
    "collapsed": false
   },
   "outputs": [
    {
     "data": {
      "text/plain": [
       "GradientBoostingClassifier(criterion='friedman_mse', init=None,\n",
       "              learning_rate=0.1, loss='deviance', max_depth=6,\n",
       "              max_features=None, max_leaf_nodes=None,\n",
       "              min_impurity_split=1e-07, min_samples_leaf=1,\n",
       "              min_samples_split=2, min_weight_fraction_leaf=0.0,\n",
       "              n_estimators=350, presort='auto', random_state=None,\n",
       "              subsample=1.0, verbose=0, warm_start=False)"
      ]
     },
     "execution_count": 56,
     "metadata": {},
     "output_type": "execute_result"
    }
   ],
   "source": [
    "gbc.best_estimator_"
   ]
  },
  {
   "cell_type": "code",
   "execution_count": 179,
   "metadata": {
    "collapsed": false
   },
   "outputs": [
    {
     "data": {
      "text/plain": [
       "[('time_signature', 0.0051426935156258348),\n",
       " ('mode', 0.0072545088887819315),\n",
       " ('key', 0.032807128807818442),\n",
       " ('instrumentalness', 0.077860100433247689),\n",
       " ('energy', 0.080782143548385282),\n",
       " ('liveness', 0.089152144492209789),\n",
       " ('valence', 0.08956578431053093),\n",
       " ('acousticness', 0.096534423747597548),\n",
       " ('danceability', 0.098070808397771547),\n",
       " ('duration_ms', 0.10201217069676033),\n",
       " ('loudness', 0.10365781369455888),\n",
       " ('speechiness', 0.10527189642707163),\n",
       " ('tempo', 0.11188838303964022)]"
      ]
     },
     "execution_count": 179,
     "metadata": {},
     "output_type": "execute_result"
    }
   ],
   "source": [
    "feature_importance = sorted(list(zip(X_test.columns,gbc.best_estimator_.feature_importances_)), key=lambda x: x[1])\n",
    "feature_importance"
   ]
  },
  {
   "cell_type": "markdown",
   "metadata": {},
   "source": [
    "### Feature Importance of Gradient Boosting Classifier"
   ]
  },
  {
   "cell_type": "code",
   "execution_count": 424,
   "metadata": {
    "collapsed": false
   },
   "outputs": [
    {
     "data": {
      "image/png": "[encoded data removed]",
      "text/plain": [
       "<matplotlib.figure.Figure at 0x127999e48>"
      ]
     },
     "metadata": {},
     "output_type": "display_data"
    }
   ],
   "source": [
    "xlabels = ['Time Signature', 'Mode', 'Key', 'Instrumentalness', 'Energy', 'Liveness', 'Valence', 'Acousticness', 'Danceability', 'Duration', 'Loudness', 'Speechiness', 'Tempo']\n",
    "ypos = np.arange(len(xlabels))\n",
    "fig = plt.subplots(figsize=(13,7))\n",
    "plt.barh(ypos, [t[1] for t in feature_importance]  , align=\"center\", color='black')\n",
    "plt.title('Gradient Boosting Classifier', fontsize=16, fontweight='bold')\n",
    "plt.yticks(ypos, xlabels, fontsize=14);\n",
    "plt.xticks(fontsize=14)\n",
    "plt.savefig(\"feature_importance.png\");"
   ]
  },
  {
   "cell_type": "code",
   "execution_count": 225,
   "metadata": {
    "collapsed": false
   },
   "outputs": [
    {
     "name": "stdout",
     "output_type": "stream",
     "text": [
      "LOGISTIC REGRESSION SCORES\n",
      "Accuracy: 0.695218076721\n",
      "Precision: 0.0\n",
      "Recall: 0.0\n",
      "F1: 0.0\n"
     ]
    },
    {
     "name": "stderr",
     "output_type": "stream",
     "text": [
      "/Users/brianturner/anaconda/lib/python3.6/site-packages/sklearn/metrics/classification.py:1113: UndefinedMetricWarning: Precision is ill-defined and being set to 0.0 due to no predicted samples.\n",
      "  'precision', 'predicted', average, warn_for)\n",
      "/Users/brianturner/anaconda/lib/python3.6/site-packages/sklearn/metrics/classification.py:1113: UndefinedMetricWarning: F-score is ill-defined and being set to 0.0 due to no predicted samples.\n",
      "  'precision', 'predicted', average, warn_for)\n"
     ]
    }
   ],
   "source": [
    "log_param_grid = {'C': [.1, .5, 1, 10, 100, 1000], 'random_state': [1]}\n",
    "\n",
    "log_model = GridSearchCV(LogisticRegression(), param_grid=log_param_grid, scoring='recall')\n",
    "log_model.fit(X_train, y_train)\n",
    "log_y_pred = log_model.predict(X_test)\n",
    "log_accuracy = accuracy_score(y_test, log_y_pred)\n",
    "log_precision = precision_score(y_test, log_y_pred)\n",
    "log_recall = recall_score(y_test, log_y_pred)\n",
    "log_f1 = f1_score(y_test, log_y_pred)\n",
    "print('LOGISTIC REGRESSION SCORES')\n",
    "print('Accuracy:', log_accuracy)\n",
    "print('Precision:', log_precision)\n",
    "print('Recall:', log_recall)\n",
    "print('F1:', log_f1)"
   ]
  },
  {
   "cell_type": "code",
   "execution_count": 214,
   "metadata": {
    "collapsed": false
   },
   "outputs": [
    {
     "name": "stdout",
     "output_type": "stream",
     "text": [
      "Voting Classifiter SCORES\n",
      "Accuracy: 0.700472937467\n",
      "Precision: 0.558139534884\n",
      "Recall: 0.0827586206897\n",
      "F1: 0.144144144144\n"
     ]
    }
   ],
   "source": [
    "from sklearn.ensemble import VotingClassifier, AdaBoostClassifier\n",
    "\n",
    "gbc_voting = GradientBoostingClassifier(n_estimators=350, max_depth=6)\n",
    "ada = AdaBoostClassifier()\n",
    "\n",
    "vc = VotingClassifier(estimators=[('gradient boost', gbc_voting), ('adaboost', ada)], voting='hard')\n",
    "vc.fit(X_train, y_train)\n",
    "vc_y_pred = vc.predict(X_test)\n",
    "vc_accuracy = accuracy_score(y_test, vc_y_pred)\n",
    "vc_precision = precision_score(y_test, vc_y_pred)\n",
    "vc_recall = recall_score(y_test, vc_y_pred)\n",
    "vc_f1 = f1_score(y_test, vc_y_pred)\n",
    "print('Voting Classifiter SCORES')\n",
    "print('Accuracy:', vc_accuracy)\n",
    "print('Precision:', vc_precision)\n",
    "print('Recall:', vc_recall)\n",
    "print('F1:', vc_f1)\n"
   ]
  }
 ],
 "metadata": {
  "kernelspec": {
   "display_name": "Python 3",
   "language": "python",
   "name": "python3"
  },
  "language_info": {
   "codemirror_mode": {
    "name": "ipython",
    "version": 3
   },
   "file_extension": ".py",
   "mimetype": "text/x-python",
   "name": "python",
   "nbconvert_exporter": "python",
   "pygments_lexer": "ipython3",
   "version": "3.6.0"
  }
 },
 "nbformat": 4,
 "nbformat_minor": 2
}
